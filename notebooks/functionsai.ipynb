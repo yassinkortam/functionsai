{
 "cells": [
  {
   "cell_type": "code",
   "execution_count": 1,
   "metadata": {},
   "outputs": [
    {
     "name": "stderr",
     "output_type": "stream",
     "text": [
      "/Users/yassinkortam/miniconda3/envs/functionsai/lib/python3.11/site-packages/fuzzywuzzy/fuzz.py:11: UserWarning: Using slow pure-python SequenceMatcher. Install python-Levenshtein to remove this warning\n",
      "  warnings.warn('Using slow pure-python SequenceMatcher. Install python-Levenshtein to remove this warning')\n"
     ]
    }
   ],
   "source": [
    "import inspect\n",
    "import pandas\n",
    "import functionsai\n",
    "from functionsai import FunctionsAI, Module, Function"
   ]
  },
  {
   "cell_type": "code",
   "execution_count": 2,
   "metadata": {},
   "outputs": [],
   "source": [
    "functions = FunctionsAI(functionsai)"
   ]
  },
  {
   "cell_type": "code",
   "execution_count": 3,
   "metadata": {},
   "outputs": [
    {
     "data": {
      "text/plain": [
       "[{'name': 'sort',\n",
       "  'description': \"\\n        Sort the functions by their similarity to the prompt.\\n\\n        Args:\\n            prompt (str): The user's prompt.\\n\\n        Returns:\\n            List[Tuple[Function, float]]: A list of functions and their similarity scores.\\n        \",\n",
       "  'parameters': {'type': 'object',\n",
       "   'properties': {'prompt': {'type': str,\n",
       "     'description': \"The user's prompt.\"}},\n",
       "   'required': ['prompt']}}]"
      ]
     },
     "execution_count": 3,
     "metadata": {},
     "output_type": "execute_result"
    }
   ],
   "source": [
    "functions.top(\"how can i sort the functions in a module?\", 1)"
   ]
  },
  {
   "cell_type": "code",
   "execution_count": 4,
   "metadata": {},
   "outputs": [],
   "source": [
    "functions = FunctionsAI(pandas)"
   ]
  },
  {
   "cell_type": "code",
   "execution_count": 5,
   "metadata": {},
   "outputs": [
    {
     "data": {
      "text/plain": [
       "[{'name': 'hist_frame',\n",
       "  'description': \"\\n    Make a histogram of the DataFrame's columns.\\n\\n    A `histogram`_ is a representation of the distribution of data.\\n    This function calls :meth:`matplotlib.pyplot.hist`, on each series in\\n    the DataFrame, resulting in one histogram per column.\\n\\n    .. _histogram: https://en.wikipedia.org/wiki/Histogram\\n\\n    Parameters\\n    ----------\\n    data : DataFrame\\n        The pandas object holding the data.\\n    column : str or sequence, optional\\n        If passed, will be used to limit data to a subset of columns.\\n    by : object, optional\\n        If passed, then used to form histograms for separate groups.\\n    grid : bool, default True\\n        Whether to show axis grid lines.\\n    xlabelsize : int, default None\\n        If specified changes the x-axis label size.\\n    xrot : float, default None\\n        Rotation of x axis labels. For example, a value of 90 displays the\\n        x labels rotated 90 degrees clockwise.\\n    ylabelsize : int, default None\\n        If specified changes the y-axis label size.\\n    yrot : float, default None\\n        Rotation of y axis labels. For example, a value of 90 displays the\\n        y labels rotated 90 degrees clockwise.\\n    ax : Matplotlib axes object, default None\\n        The axes to plot the histogram on.\\n    sharex : bool, default True if ax is None else False\\n        In case subplots=True, share x axis and set some x axis labels to\\n        invisible; defaults to True if ax is None otherwise False if an ax\\n        is passed in.\\n        Note that passing in both an ax and sharex=True will alter all x axis\\n        labels for all subplots in a figure.\\n    sharey : bool, default False\\n        In case subplots=True, share y axis and set some y axis labels to\\n        invisible.\\n    figsize : tuple, optional\\n        The size in inches of the figure to create. Uses the value in\\n        `matplotlib.rcParams` by default.\\n    layout : tuple, optional\\n        Tuple of (rows, columns) for the layout of the histograms.\\n    bins : int or sequence, default 10\\n        Number of histogram bins to be used. If an integer is given, bins + 1\\n        bin edges are calculated and returned. If bins is a sequence, gives\\n        bin edges, including left edge of first bin and right edge of last\\n        bin. In this case, bins is returned unmodified.\\n\\n    backend : str, default None\\n        Backend to use instead of the backend specified in the option\\n        ``plotting.backend``. For instance, 'matplotlib'. Alternatively, to\\n        specify the ``plotting.backend`` for the whole session, set\\n        ``pd.options.plotting.backend``.\\n\\n    legend : bool, default False\\n        Whether to show the legend.\\n\\n    **kwargs\\n        All other plotting keyword arguments to be passed to\\n        :meth:`matplotlib.pyplot.hist`.\\n\\n    Returns\\n    -------\\n    matplotlib.AxesSubplot or numpy.ndarray of them\\n\\n    See Also\\n    --------\\n    matplotlib.pyplot.hist : Plot a histogram using matplotlib.\\n\\n    Examples\\n    --------\\n    This example draws a histogram based on the length and width of\\n    some animals, displayed in three bins\\n\\n    .. plot::\\n        :context: close-figs\\n\\n        >>> df = pd.DataFrame({\\n        ...     'length': [1.5, 0.5, 1.2, 0.9, 3],\\n        ...     'width': [0.7, 0.2, 0.15, 0.2, 1.1]\\n        ...     }, index=['pig', 'rabbit', 'duck', 'chicken', 'horse'])\\n        >>> hist = df.hist(bins=3)\\n    \",\n",
       "  'parameters': {'type': 'object',\n",
       "   'properties': {'data': {'type': 'DataFrame', 'description': 'DataFrame'},\n",
       "    'column': {'type': 'IndexLabel | None',\n",
       "     'description': 'str or sequence, optional'},\n",
       "    'by': {'type': None, 'description': 'object, optional'},\n",
       "    'grid': {'type': 'bool', 'description': 'bool, default True'},\n",
       "    'xlabelsize': {'type': 'int | None', 'description': 'int, default None'},\n",
       "    'xrot': {'type': 'float | None', 'description': 'float, default None'},\n",
       "    'ylabelsize': {'type': 'int | None', 'description': 'int, default None'},\n",
       "    'yrot': {'type': 'float | None', 'description': 'float, default None'},\n",
       "    'ax': {'type': None,\n",
       "     'description': 'Matplotlib axes object, default None'},\n",
       "    'sharex': {'type': 'bool',\n",
       "     'description': 'bool, default True if ax is None else False'},\n",
       "    'sharey': {'type': 'bool', 'description': 'bool, default False'},\n",
       "    'figsize': {'type': 'tuple[int, int] | None',\n",
       "     'description': 'tuple, optional'},\n",
       "    'layout': {'type': 'tuple[int, int] | None',\n",
       "     'description': 'tuple, optional'},\n",
       "    'bins': {'type': 'int | Sequence[int]',\n",
       "     'description': 'int or sequence, default 10'},\n",
       "    'backend': {'type': 'str | None', 'description': 'str, default None'},\n",
       "    'legend': {'type': 'bool', 'description': 'bool, default False'},\n",
       "    'kwargs': {'type': None, 'description': None}},\n",
       "   'required': ['data', 'kwargs']}}]"
      ]
     },
     "execution_count": 5,
     "metadata": {},
     "output_type": "execute_result"
    }
   ],
   "source": [
    "functions.top(\"How can I create a histogram from a dataframe?\", 1)"
   ]
  }
 ],
 "metadata": {
  "kernelspec": {
   "display_name": "Python 3",
   "language": "python",
   "name": "python3"
  },
  "language_info": {
   "codemirror_mode": {
    "name": "ipython",
    "version": 3
   },
   "file_extension": ".py",
   "mimetype": "text/x-python",
   "name": "python",
   "nbconvert_exporter": "python",
   "pygments_lexer": "ipython3",
   "version": "3.11.5"
  },
  "orig_nbformat": 4
 },
 "nbformat": 4,
 "nbformat_minor": 2
}
